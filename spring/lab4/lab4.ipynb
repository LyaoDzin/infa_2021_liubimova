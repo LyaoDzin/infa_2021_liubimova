{
 "cells": [
  {
   "cell_type": "code",
   "execution_count": 2,
   "id": "06da4c1a",
   "metadata": {},
   "outputs": [
    {
     "name": "stdout",
     "output_type": "stream",
     "text": [
      "отсортированные столбцы \n",
      " [[ 1  3  3  7]\n",
      " [ 4  5  7  8]\n",
      " [ 5  5  8  9]\n",
      " [ 7  6  8 12]]\n",
      "транспорированный массив от отсортированного \n",
      " [[ 1  4  5  7]\n",
      " [ 3  5  5  6]\n",
      " [ 3  7  8  8]\n",
      " [ 7  8  9 12]]\n",
      "обьединенное вертикально \n",
      " [[ 1  3  3  7]\n",
      " [ 4  5  7  8]\n",
      " [ 5  5  8  9]\n",
      " [ 7  6  8 12]\n",
      " [ 1  4  5  7]\n",
      " [ 3  5  5  6]\n",
      " [ 3  7  8  8]\n",
      " [ 7  8  9 12]]\n",
      "обьединенные горизонтально \n",
      " [[ 1  3  3  7  1  4  5  7]\n",
      " [ 4  5  7  8  3  5  5  6]\n",
      " [ 5  5  8  9  3  7  8  8]\n",
      " [ 7  6  8 12  7  8  9 12]]\n",
      "обьединенные без осей \n",
      " [ 1  3  3  7  4  5  7  8  5  5  8  9  7  6  8 12  1  4  5  7  3  5  5  6\n",
      "  3  7  8  8  7  8  9 12]\n"
     ]
    }
   ],
   "source": [
    "import numpy as np\n",
    "array=([\n",
    "    [1,3,7,9],\n",
    "    [4,6,8,12],\n",
    "    [7,5,3,7],\n",
    "    [5,5,8,8]\n",
    "])\n",
    "array_sort=np.sort(array, axis=0)\n",
    "array_t=np.transpose(array_sort)\n",
    "print('отсортированные столбцы \\n', array_sort )\n",
    "print('транспорированный массив от отсортированного \\n', array_t)\n",
    "print('обьединенное вертикально \\n', np.vstack((array_sort,array_t)))\n",
    "print('обьединенные горизонтально \\n', np.hstack((array_sort,array_t)))\n",
    "print('обьединенные без осей \\n', np.concatenate((array_sort, array_t), axis=None))"
   ]
  },
  {
   "cell_type": "code",
   "execution_count": null,
   "id": "34fe1406",
   "metadata": {},
   "outputs": [],
   "source": [
    "import numpy as np\n",
    "import math as m\n",
    "def type_def(a):\n",
    "    if np.amin(a) < 0:\n",
    "        if abs(np.amax(a)) < abs(np.amin(a)):\n",
    "            eltype=m.ceil(np.log(abs(np.amin(a)))/np.log(2))\n",
    "        else:\n",
    "            eltype=m.ceil(np.log(np.amax(a))/np.log(2))\n",
    "        dtype=np.int8\n",
    "    else:\n",
    "        eltype=m.ceil(np.log(np.amax(a))/np.log(2))\n",
    "        if eltype<11:\n",
    "            dtype=np.uint8\n",
    "        else:\n",
    "            dtype=np.uint64\n",
    "    return dtype\n",
    "\n",
    "n=int(input())\n",
    "a=[]\n",
    "nums=[0,n]\n",
    "for i in nums:\n",
    "    a.append(int(input()))\n",
    "dtype=type_def(a)\n",
    "array = np.array(a, dtype=dtype)\n",
    "print(array)"
   ]
  },
  {
   "cell_type": "code",
   "execution_count": null,
   "id": "725e7e7c",
   "metadata": {},
   "outputs": [],
   "source": []
  }
 ],
 "metadata": {
  "kernelspec": {
   "display_name": "Python 3 (ipykernel)",
   "language": "python",
   "name": "python3"
  },
  "language_info": {
   "codemirror_mode": {
    "name": "ipython",
    "version": 3
   },
   "file_extension": ".py",
   "mimetype": "text/x-python",
   "name": "python",
   "nbconvert_exporter": "python",
   "pygments_lexer": "ipython3",
   "version": "3.8.9"
  }
 },
 "nbformat": 4,
 "nbformat_minor": 5
}
