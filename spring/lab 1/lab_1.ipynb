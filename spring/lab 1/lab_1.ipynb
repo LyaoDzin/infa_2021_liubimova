{
 "cells": [
  {
   "cell_type": "code",
   "execution_count": 2,
   "id": "9f2f5ae7",
   "metadata": {},
   "outputs": [
    {
     "name": "stdout",
     "output_type": "stream",
     "text": [
      "3\n",
      "4\n",
      "5\n",
      "6\n",
      "7\n",
      "12\n",
      "\n",
      "[3, 4, 5, 6, 7, 12]\n",
      "6.0\n"
     ]
    }
   ],
   "source": [
    "l = list()\n",
    "numbers = input()\n",
    "\n",
    "while numbers!='':\n",
    "    l.append(int(numbers))\n",
    "    numbers = input()\n",
    "\n",
    "l.sort()\n",
    "print(l)\n",
    "\n",
    "if len(l) % 2 == 0:\n",
    "    print(float(l[len(l)//2]))\n",
    "\n",
    "elif len(l) % 2 == 1:\n",
    "    print(float(((l[len(l)//2-1]) + (l[len(l)//2+1]))/2))\n",
    "\n",
    "\n"
   ]
  },
  {
   "cell_type": "code",
   "execution_count": null,
   "id": "e1118d14",
   "metadata": {},
   "outputs": [],
   "source": []
  }
 ],
 "metadata": {
  "kernelspec": {
   "display_name": "Python 3 (ipykernel)",
   "language": "python",
   "name": "python3"
  },
  "language_info": {
   "codemirror_mode": {
    "name": "ipython",
    "version": 3
   },
   "file_extension": ".py",
   "mimetype": "text/x-python",
   "name": "python",
   "nbconvert_exporter": "python",
   "pygments_lexer": "ipython3",
   "version": "3.8.9"
  }
 },
 "nbformat": 4,
 "nbformat_minor": 5
}
